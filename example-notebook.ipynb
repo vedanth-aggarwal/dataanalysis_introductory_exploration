{
 "cells": [
  {
   "cell_type": "code",
   "execution_count": 3,
   "id": "2dd914b3-60f0-4a6c-82cb-e27151751e48",
   "metadata": {},
   "outputs": [],
   "source": [
    "#Imports \n",
    "import pandas as pd\n",
    "import numpy as np \n",
    "import sklearn \n",
    "import matplotlib.pyplot as plt"
   ]
  },
  {
   "cell_type": "code",
   "execution_count": 7,
   "id": "71066dc5-a866-45d7-9635-0b7f53eecaa0",
   "metadata": {},
   "outputs": [
    {
     "data": {
      "text/plain": [
       "'\\nShift + enter -> Run code \\nEscape -> Edit to command mode \\nEnter -> Command to edit mode \\nb -> New cell below\\na -> New cell above\\nm -> Markdown\\ndd - > delete\\n'"
      ]
     },
     "execution_count": 7,
     "metadata": {},
     "output_type": "execute_result"
    }
   ],
   "source": [
    "# Shortcuts \n",
    "\"\"\"\n",
    "Shift + enter -> Run code \n",
    "Escape -> Edit to command mode \n",
    "Enter -> Command to edit mode \n",
    "b -> New cell below\n",
    "a -> New cell above\n",
    "m -> Markdown\n",
    "dd - > delete\n",
    "\"\"\""
   ]
  },
  {
   "cell_type": "markdown",
   "id": "e957c7ff-cddf-4d98-854a-bfc708d82f1d",
   "metadata": {},
   "source": [
    "## HEART DISEASE PROJECT\n",
    "\n",
    "This project is about classficiation using machine learning"
   ]
  },
  {
   "cell_type": "code",
   "execution_count": null,
   "id": "d4806cdd-a3c6-4f34-a5c2-4d0782b629cd",
   "metadata": {},
   "outputs": [],
   "source": [
    "# ![](image name and extension)"
   ]
  },
  {
   "cell_type": "code",
   "execution_count": null,
   "id": "790cf788-3e55-4fa4-8337-31d123b88692",
   "metadata": {},
   "outputs": [],
   "source": []
  }
 ],
 "metadata": {
  "kernelspec": {
   "display_name": "Python 3 (ipykernel)",
   "language": "python",
   "name": "python3"
  },
  "language_info": {
   "codemirror_mode": {
    "name": "ipython",
    "version": 3
   },
   "file_extension": ".py",
   "mimetype": "text/x-python",
   "name": "python",
   "nbconvert_exporter": "python",
   "pygments_lexer": "ipython3",
   "version": "3.12.2"
  }
 },
 "nbformat": 4,
 "nbformat_minor": 5
}
