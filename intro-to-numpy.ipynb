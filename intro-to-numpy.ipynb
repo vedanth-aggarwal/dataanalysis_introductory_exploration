{
 "cells": [
  {
   "cell_type": "code",
   "execution_count": 1,
   "id": "306ff3ff-d6cd-496a-93a3-269320fa10d7",
   "metadata": {},
   "outputs": [],
   "source": [
    "import numpy as np"
   ]
  },
  {
   "cell_type": "markdown",
   "id": "d397dd8c-3ebc-4858-be0f-1adeaccc21b4",
   "metadata": {},
   "source": [
    "##DATATYPES"
   ]
  },
  {
   "cell_type": "code",
   "execution_count": 2,
   "id": "8cd2fb2f-c7a7-48d6-86b0-4aa71acc319c",
   "metadata": {},
   "outputs": [],
   "source": [
    "#ndarray\n",
    "a1 = np.array([1,2,3])\n",
    "a2 = np.array([[1,2,3],[4,5,6]])\n",
    "a3 = np.array([[[1, 2, 3],\n",
    "                [4, 5, 6]],\n",
    "               [[7, 8, 9],\n",
    "                [10, 11, 12]],\n",
    "               [[13, 14, 15],\n",
    "                [16, 17, 18]]])"
   ]
  },
  {
   "cell_type": "code",
   "execution_count": 3,
   "id": "76e6acd9-6fb1-47dd-8cc9-0a1928c74fa8",
   "metadata": {},
   "outputs": [
    {
     "data": {
      "text/plain": [
       "array([[[ 1,  2,  3],\n",
       "        [ 4,  5,  6]],\n",
       "\n",
       "       [[ 7,  8,  9],\n",
       "        [10, 11, 12]],\n",
       "\n",
       "       [[13, 14, 15],\n",
       "        [16, 17, 18]]])"
      ]
     },
     "execution_count": 3,
     "metadata": {},
     "output_type": "execute_result"
    }
   ],
   "source": [
    "a3"
   ]
  },
  {
   "cell_type": "code",
   "execution_count": 4,
   "id": "76ef3dc7-4cb6-4259-9bdf-0a4da370e075",
   "metadata": {},
   "outputs": [
    {
     "data": {
      "text/plain": [
       "3"
      ]
     },
     "execution_count": 4,
     "metadata": {},
     "output_type": "execute_result"
    }
   ],
   "source": [
    "a1.shape\n",
    "a1.ndim\n",
    "a1.dtype\n",
    "a1.size"
   ]
  },
  {
   "cell_type": "code",
   "execution_count": 5,
   "id": "08e2880b-3b73-42cf-9dee-0a366520689e",
   "metadata": {},
   "outputs": [
    {
     "data": {
      "text/html": [
       "<div>\n",
       "<style scoped>\n",
       "    .dataframe tbody tr th:only-of-type {\n",
       "        vertical-align: middle;\n",
       "    }\n",
       "\n",
       "    .dataframe tbody tr th {\n",
       "        vertical-align: top;\n",
       "    }\n",
       "\n",
       "    .dataframe thead th {\n",
       "        text-align: right;\n",
       "    }\n",
       "</style>\n",
       "<table border=\"1\" class=\"dataframe\">\n",
       "  <thead>\n",
       "    <tr style=\"text-align: right;\">\n",
       "      <th></th>\n",
       "      <th>0</th>\n",
       "      <th>1</th>\n",
       "      <th>2</th>\n",
       "    </tr>\n",
       "  </thead>\n",
       "  <tbody>\n",
       "    <tr>\n",
       "      <th>0</th>\n",
       "      <td>1</td>\n",
       "      <td>2</td>\n",
       "      <td>3</td>\n",
       "    </tr>\n",
       "    <tr>\n",
       "      <th>1</th>\n",
       "      <td>4</td>\n",
       "      <td>5</td>\n",
       "      <td>6</td>\n",
       "    </tr>\n",
       "  </tbody>\n",
       "</table>\n",
       "</div>"
      ],
      "text/plain": [
       "   0  1  2\n",
       "0  1  2  3\n",
       "1  4  5  6"
      ]
     },
     "execution_count": 5,
     "metadata": {},
     "output_type": "execute_result"
    }
   ],
   "source": [
    "# Create dataframe from numpy\n",
    "import pandas as pd\n",
    "df = pd.DataFrame(a2)\n",
    "df"
   ]
  },
  {
   "cell_type": "code",
   "execution_count": 6,
   "id": "0d3856c8-2617-4fbf-9b26-c7d19fcbe961",
   "metadata": {},
   "outputs": [],
   "source": [
    "#shift tab\n",
    "sample = np.ones((2,3))\n",
    "# np.zeros \n"
   ]
  },
  {
   "cell_type": "code",
   "execution_count": 7,
   "id": "ce59f568-5c3d-49f5-bdb7-427c9ac025fc",
   "metadata": {},
   "outputs": [
    {
     "data": {
      "text/plain": [
       "array([0, 2, 4, 6, 8])"
      ]
     },
     "execution_count": 7,
     "metadata": {},
     "output_type": "execute_result"
    }
   ],
   "source": [
    "range = np.arange(0,10,2)\n",
    "range"
   ]
  },
  {
   "cell_type": "code",
   "execution_count": 8,
   "id": "6a4ca65f-d877-430b-a4f2-19c3d4a36af8",
   "metadata": {},
   "outputs": [
    {
     "data": {
      "text/plain": [
       "array([[6, 2, 1, 9, 5],\n",
       "       [2, 1, 3, 2, 4],\n",
       "       [2, 4, 0, 2, 4]])"
      ]
     },
     "execution_count": 8,
     "metadata": {},
     "output_type": "execute_result"
    }
   ],
   "source": [
    "random = np.random.randint(0,10,size=(3,5))\n",
    "random"
   ]
  },
  {
   "cell_type": "code",
   "execution_count": 9,
   "id": "6cf969f6-c4c5-4305-8f20-b3b77cf460b7",
   "metadata": {},
   "outputs": [
    {
     "name": "stdout",
     "output_type": "stream",
     "text": [
      "[[0.45127533 0.83602621 0.14517801]\n",
      " [0.28870191 0.78845496 0.55716289]\n",
      " [0.42912991 0.00267752 0.2600969 ]\n",
      " [0.98328659 0.77758824 0.28656657]\n",
      " [0.31887917 0.44218867 0.08659404]]\n"
     ]
    }
   ],
   "source": [
    "print(np.random.random((5,3)))"
   ]
  },
  {
   "cell_type": "code",
   "execution_count": 10,
   "id": "d1848c23-1b92-4d95-aa90-7e7fca923856",
   "metadata": {},
   "outputs": [
    {
     "name": "stdout",
     "output_type": "stream",
     "text": [
      "[[0.12531044 0.11740201 0.59590658]\n",
      " [0.64748867 0.24332283 0.35002012]\n",
      " [0.60557214 0.94386842 0.03140182]\n",
      " [0.259475   0.43847388 0.92378329]\n",
      " [0.93902797 0.81290206 0.48241073]]\n"
     ]
    }
   ],
   "source": [
    "print(np.random.rand(5,3))"
   ]
  },
  {
   "cell_type": "code",
   "execution_count": 11,
   "id": "15b8117f-e5b6-4d9f-9517-0963cc2a76c8",
   "metadata": {},
   "outputs": [
    {
     "data": {
      "text/plain": [
       "array([[2, 4, 7],\n",
       "       [6, 2, 3],\n",
       "       [7, 8, 6],\n",
       "       [3, 7, 6],\n",
       "       [7, 6, 6]])"
      ]
     },
     "execution_count": 11,
     "metadata": {},
     "output_type": "execute_result"
    }
   ],
   "source": [
    "#np.random.seed(0) # pseudo random\n",
    "r = np.random.randint(10,size=(5,3))\n",
    "r"
   ]
  },
  {
   "cell_type": "code",
   "execution_count": 12,
   "id": "e5f9c8c5-cb90-406b-b38b-cbcbec7385e6",
   "metadata": {},
   "outputs": [],
   "source": [
    "# VIEWING ARRAY AND MATRICES"
   ]
  },
  {
   "cell_type": "code",
   "execution_count": 13,
   "id": "e146714a-dab4-40b2-9dbc-34f4e4ee09f2",
   "metadata": {},
   "outputs": [
    {
     "data": {
      "text/plain": [
       "array([2, 3, 4, 6, 7, 8])"
      ]
     },
     "execution_count": 13,
     "metadata": {},
     "output_type": "execute_result"
    }
   ],
   "source": [
    "np.unique([r])"
   ]
  },
  {
   "cell_type": "code",
   "execution_count": 14,
   "id": "80244ff8-add0-4713-b467-cddabe6fa435",
   "metadata": {},
   "outputs": [
    {
     "data": {
      "text/plain": [
       "array([[[ 1,  2],\n",
       "        [ 4,  5]],\n",
       "\n",
       "       [[ 7,  8],\n",
       "        [10, 11]]])"
      ]
     },
     "execution_count": 14,
     "metadata": {},
     "output_type": "execute_result"
    }
   ],
   "source": [
    "#a3[0]\n",
    "a3[:2,:2,:2]"
   ]
  },
  {
   "cell_type": "code",
   "execution_count": 15,
   "id": "e9e8a4b2-93de-4154-9e2b-ae5244765c87",
   "metadata": {},
   "outputs": [
    {
     "data": {
      "text/plain": [
       "array([[[[2, 4, 5, 7, 3],\n",
       "         [5, 7, 5, 9, 7],\n",
       "         [7, 0, 5, 4, 7],\n",
       "         [7, 7, 5, 3, 1]],\n",
       "\n",
       "        [[2, 9, 1, 8, 0],\n",
       "         [7, 8, 2, 6, 7],\n",
       "         [8, 9, 0, 8, 0],\n",
       "         [6, 5, 7, 8, 6]],\n",
       "\n",
       "        [[5, 3, 5, 0, 1],\n",
       "         [3, 9, 3, 3, 2],\n",
       "         [3, 7, 9, 5, 8],\n",
       "         [2, 2, 8, 2, 0]]],\n",
       "\n",
       "\n",
       "       [[[8, 5, 1, 0, 7],\n",
       "         [7, 2, 5, 0, 4],\n",
       "         [9, 6, 8, 3, 9],\n",
       "         [9, 2, 8, 5, 3]],\n",
       "\n",
       "        [[1, 0, 5, 3, 3],\n",
       "         [9, 6, 7, 6, 4],\n",
       "         [4, 2, 9, 0, 0],\n",
       "         [0, 8, 7, 7, 8]],\n",
       "\n",
       "        [[6, 8, 0, 2, 7],\n",
       "         [6, 7, 2, 4, 5],\n",
       "         [6, 4, 6, 6, 5],\n",
       "         [4, 0, 5, 2, 7]]]])"
      ]
     },
     "execution_count": 15,
     "metadata": {},
     "output_type": "execute_result"
    }
   ],
   "source": [
    "a4 = np.random.randint(10,size=(2,3,4,5))\n",
    "a4"
   ]
  },
  {
   "cell_type": "code",
   "execution_count": 16,
   "id": "71dee844-d07f-4158-b34b-36f7ab79e099",
   "metadata": {},
   "outputs": [
    {
     "data": {
      "text/plain": [
       "array([[[[2],\n",
       "         [5],\n",
       "         [7],\n",
       "         [7]],\n",
       "\n",
       "        [[2],\n",
       "         [7],\n",
       "         [8],\n",
       "         [6]],\n",
       "\n",
       "        [[5],\n",
       "         [3],\n",
       "         [3],\n",
       "         [2]]],\n",
       "\n",
       "\n",
       "       [[[8],\n",
       "         [7],\n",
       "         [9],\n",
       "         [9]],\n",
       "\n",
       "        [[1],\n",
       "         [9],\n",
       "         [4],\n",
       "         [0]],\n",
       "\n",
       "        [[6],\n",
       "         [6],\n",
       "         [6],\n",
       "         [4]]]])"
      ]
     },
     "execution_count": 16,
     "metadata": {},
     "output_type": "execute_result"
    }
   ],
   "source": [
    "a4[:,:,:,:1]"
   ]
  },
  {
   "cell_type": "code",
   "execution_count": 17,
   "id": "8a0cc35b-52a6-4163-bd56-e443a38c59ad",
   "metadata": {},
   "outputs": [],
   "source": [
    "## 4. Manipulating & comparing arrays"
   ]
  },
  {
   "cell_type": "code",
   "execution_count": 18,
   "id": "18be095c-008a-4175-8d54-041683a5f4ba",
   "metadata": {},
   "outputs": [
    {
     "data": {
      "text/plain": [
       "array([2., 3., 4.])"
      ]
     },
     "execution_count": 18,
     "metadata": {},
     "output_type": "execute_result"
    }
   ],
   "source": [
    "# Arithmetic\n",
    "ones = np.ones(3)\n",
    "a1+ones"
   ]
  },
  {
   "cell_type": "code",
   "execution_count": 19,
   "id": "3ec8e3a7-ed59-49f8-96bb-c929bdcbbe4b",
   "metadata": {},
   "outputs": [
    {
     "data": {
      "text/plain": [
       "array([[1, 2, 3],\n",
       "       [0, 0, 2]])"
      ]
     },
     "execution_count": 19,
     "metadata": {},
     "output_type": "execute_result"
    }
   ],
   "source": [
    "a2 & a1"
   ]
  },
  {
   "cell_type": "code",
   "execution_count": 20,
   "id": "35f4e447-be3b-4483-af1d-765e2df9dacb",
   "metadata": {},
   "outputs": [
    {
     "data": {
      "text/plain": [
       "array([[[  1,   4,   9],\n",
       "        [ 16,  25,  36]],\n",
       "\n",
       "       [[  7,  16,  27],\n",
       "        [ 40,  55,  72]],\n",
       "\n",
       "       [[ 13,  28,  45],\n",
       "        [ 64,  85, 108]]])"
      ]
     },
     "execution_count": 20,
     "metadata": {},
     "output_type": "execute_result"
    }
   ],
   "source": [
    "a2 * a3 # broadcasting array"
   ]
  },
  {
   "cell_type": "code",
   "execution_count": 21,
   "id": "7170125c-5f58-4011-9d10-7d34853f7f7b",
   "metadata": {},
   "outputs": [
    {
     "data": {
      "text/plain": [
       "array([[1, 2, 3],\n",
       "       [4, 5, 6]])"
      ]
     },
     "execution_count": 21,
     "metadata": {},
     "output_type": "execute_result"
    }
   ],
   "source": [
    "a2"
   ]
  },
  {
   "cell_type": "code",
   "execution_count": 22,
   "id": "fc68c7d8-4775-4cbb-9309-a3d3ac16ddea",
   "metadata": {},
   "outputs": [
    {
     "data": {
      "text/plain": [
       "array([[[ 1,  2,  3],\n",
       "        [ 4,  5,  6]],\n",
       "\n",
       "       [[ 7,  8,  9],\n",
       "        [10, 11, 12]],\n",
       "\n",
       "       [[13, 14, 15],\n",
       "        [16, 17, 18]]])"
      ]
     },
     "execution_count": 22,
     "metadata": {},
     "output_type": "execute_result"
    }
   ],
   "source": [
    "a3"
   ]
  },
  {
   "cell_type": "code",
   "execution_count": 23,
   "id": "196fdaf1-5ef9-4560-a024-c036df48f8f9",
   "metadata": {},
   "outputs": [
    {
     "data": {
      "text/plain": [
       "array([1., 2., 3.])"
      ]
     },
     "execution_count": 23,
     "metadata": {},
     "output_type": "execute_result"
    }
   ],
   "source": [
    "a1/ones # // floor division "
   ]
  },
  {
   "cell_type": "code",
   "execution_count": 24,
   "id": "661fb9da-7e89-485d-b314-71e98c090c47",
   "metadata": {},
   "outputs": [
    {
     "data": {
      "text/plain": [
       "array([[ 1,  4,  9],\n",
       "       [16, 25, 36]])"
      ]
     },
     "execution_count": 24,
     "metadata": {},
     "output_type": "execute_result"
    }
   ],
   "source": [
    "np.square(a2) #add, subtract np functions"
   ]
  },
  {
   "cell_type": "code",
   "execution_count": 25,
   "id": "f6d45cb4-add5-4adb-aa01-2a17b222b667",
   "metadata": {},
   "outputs": [
    {
     "data": {
      "text/plain": [
       "array([0.        , 0.69314718, 1.09861229])"
      ]
     },
     "execution_count": 25,
     "metadata": {},
     "output_type": "execute_result"
    }
   ],
   "source": [
    "np.exp(a1)\n",
    "np.log(a1)"
   ]
  },
  {
   "cell_type": "code",
   "execution_count": 26,
   "id": "9be43d36-1549-4025-b470-f31900be9319",
   "metadata": {},
   "outputs": [],
   "source": [
    "# Aggregattion\n",
    "# Performing same operations on number of things"
   ]
  },
  {
   "cell_type": "code",
   "execution_count": 27,
   "id": "e8ab8744-7ce1-4654-8655-40a1b6b59ab1",
   "metadata": {},
   "outputs": [
    {
     "data": {
      "text/plain": [
       "array([1, 2, 3])"
      ]
     },
     "execution_count": 27,
     "metadata": {},
     "output_type": "execute_result"
    }
   ],
   "source": [
    "a1\n"
   ]
  },
  {
   "cell_type": "code",
   "execution_count": 28,
   "id": "d07ecd44-7438-459c-8022-35913acd3839",
   "metadata": {},
   "outputs": [
    {
     "data": {
      "text/plain": [
       "6"
      ]
     },
     "execution_count": 28,
     "metadata": {},
     "output_type": "execute_result"
    }
   ],
   "source": [
    "sum(a1) "
   ]
  },
  {
   "cell_type": "code",
   "execution_count": 29,
   "id": "1c6677b4-3973-4d0b-87f5-127f878d568d",
   "metadata": {},
   "outputs": [
    {
     "data": {
      "text/plain": [
       "6"
      ]
     },
     "execution_count": 29,
     "metadata": {},
     "output_type": "execute_result"
    }
   ],
   "source": [
    "np.sum(a1)"
   ]
  },
  {
   "cell_type": "code",
   "execution_count": 30,
   "id": "e8519ceb-9057-46bd-a797-242e477382ca",
   "metadata": {},
   "outputs": [
    {
     "data": {
      "text/plain": [
       "100000"
      ]
     },
     "execution_count": 30,
     "metadata": {},
     "output_type": "execute_result"
    }
   ],
   "source": [
    "# Use python method on python datatypes an numpy method on numpy arrays \n",
    "a5 = np.random.random(100000)\n",
    "a5.size"
   ]
  },
  {
   "cell_type": "code",
   "execution_count": 31,
   "id": "fe758434-7b35-428c-8e8e-aa89fada24fd",
   "metadata": {},
   "outputs": [
    {
     "name": "stdout",
     "output_type": "stream",
     "text": [
      "17.8 ms ± 284 µs per loop (mean ± std. dev. of 7 runs, 100 loops each)\n",
      "77.4 µs ± 4.97 µs per loop (mean ± std. dev. of 7 runs, 10,000 loops each)\n"
     ]
    }
   ],
   "source": [
    "%timeit sum(a5)\n",
    "%timeit np.sum(a5) # faster "
   ]
  },
  {
   "cell_type": "code",
   "execution_count": 32,
   "id": "3cffaddc-2c9f-49e1-9568-88cf235042b3",
   "metadata": {},
   "outputs": [],
   "source": [
    "# .mean(), max(), sqrt()\n",
    "# std(), - measure of how spread out a group of numbers if from mean ( square root of var )\n",
    "# var() - measure of average degree to which each number is diff from mean\n",
    "# high var mean wider range and low var mean lower range"
   ]
  },
  {
   "cell_type": "code",
   "execution_count": 33,
   "id": "42559d19-4816-47ca-b66f-ebfa0d6dc2e8",
   "metadata": {},
   "outputs": [
    {
     "data": {
      "text/plain": [
       "(554441176.1600001, 8.0)"
      ]
     },
     "execution_count": 33,
     "metadata": {},
     "output_type": "execute_result"
    }
   ],
   "source": [
    "# DEMO OF STD AND VAR\n",
    "highvar = np.array([1,100,200,5000,60000])\n",
    "lowvar = np.array([2,4,6,8,10])\n",
    "np.var(highvar),np.var(lowvar)"
   ]
  },
  {
   "cell_type": "code",
   "execution_count": 34,
   "id": "06cce82f-3eb5-40c8-ad7a-f9c9b73a81a0",
   "metadata": {},
   "outputs": [
    {
     "data": {
      "text/plain": [
       "(23546.57461627912, 2.8284271247461903)"
      ]
     },
     "execution_count": 34,
     "metadata": {},
     "output_type": "execute_result"
    }
   ],
   "source": [
    "np.std(highvar),np.std(lowvar) # average amount away from mean"
   ]
  },
  {
   "cell_type": "code",
   "execution_count": 35,
   "id": "5375fa84-4a00-480e-99b4-a6b31b879a74",
   "metadata": {},
   "outputs": [
    {
     "data": {
      "image/png": "[encoded data removed]",
      "text/plain": [
       "<Figure size 640x480 with 1 Axes>"
      ]
     },
     "metadata": {},
     "output_type": "display_data"
    }
   ],
   "source": [
    "%matplotlib inline\n",
    "import matplotlib.pyplot as plt\n",
    "plt.hist(highvar) # see spread of numbers \n",
    "plt.show()"
   ]
  },
  {
   "cell_type": "code",
   "execution_count": 36,
   "id": "ebbb07ad-0af2-499b-ba39-da103f163694",
   "metadata": {},
   "outputs": [],
   "source": [
    "## Reshaping and transposing"
   ]
  },
  {
   "cell_type": "code",
   "execution_count": 37,
   "id": "cb0d7aa7-79a9-41c4-85eb-c59ba710cd35",
   "metadata": {},
   "outputs": [
    {
     "data": {
      "text/plain": [
       "array([[[  1,   2,   3],\n",
       "        [  8,  10,  12]],\n",
       "\n",
       "       [[ 21,  24,  27],\n",
       "        [ 40,  44,  48]],\n",
       "\n",
       "       [[ 65,  70,  75],\n",
       "        [ 96, 102, 108]]])"
      ]
     },
     "execution_count": 37,
     "metadata": {},
     "output_type": "execute_result"
    }
   ],
   "source": [
    "a2_reshape= a2.reshape(3,2,1)\n",
    "a2_reshape * a3"
   ]
  },
  {
   "cell_type": "code",
   "execution_count": 38,
   "id": "f050c9b2-1165-42e2-b249-4269dd3aaa49",
   "metadata": {},
   "outputs": [
    {
     "data": {
      "text/plain": [
       "array([[1, 4],\n",
       "       [2, 5],\n",
       "       [3, 6]])"
      ]
     },
     "execution_count": 38,
     "metadata": {},
     "output_type": "execute_result"
    }
   ],
   "source": [
    "a2.T"
   ]
  },
  {
   "cell_type": "code",
   "execution_count": null,
   "id": "435bc917-d377-41aa-a52f-db7a797ac85c",
   "metadata": {},
   "outputs": [],
   "source": [
    "# Transposing helps in dot product"
   ]
  },
  {
   "cell_type": "code",
   "execution_count": 41,
   "id": "25ea4374-5d70-46a4-b910-5dbfa0eea0e7",
   "metadata": {},
   "outputs": [],
   "source": [
    "np.random.seed(0)\n",
    "mat1 = np.random.randint(10,size=(5,3))\n",
    "mat2 = np.random.randint(10,size=(5,3))"
   ]
  },
  {
   "cell_type": "code",
   "execution_count": 42,
   "id": "a6da1cf6-5e91-4528-980e-de33f81f1759",
   "metadata": {},
   "outputs": [
    {
     "data": {
      "text/plain": [
       "array([[30,  0, 21],\n",
       "       [24,  7, 45],\n",
       "       [27, 40, 18],\n",
       "       [16, 21,  0],\n",
       "       [24, 40,  0]])"
      ]
     },
     "execution_count": 42,
     "metadata": {},
     "output_type": "execute_result"
    }
   ],
   "source": [
    "mat1 * mat2 # Element wise hardamard product multiplication"
   ]
  },
  {
   "cell_type": "code",
   "execution_count": 45,
   "id": "3988365a-85ca-4acf-b2d4-4ba5564cb2f8",
   "metadata": {},
   "outputs": [],
   "source": [
    "# Dot product\n",
    "mat3 = np.dot(mat1,mat2.T)"
   ]
  },
  {
   "cell_type": "code",
   "execution_count": 46,
   "id": "115056f7-5442-42a0-a9c3-699b08acf29e",
   "metadata": {},
   "outputs": [],
   "source": [
    "np.random.seed(0)\n",
    "sales = np.random.randint(20,size=(5,3))"
   ]
  },
  {
   "cell_type": "code",
   "execution_count": 48,
   "id": "46bbd711-1712-4813-be72-d4881dc0478f",
   "metadata": {},
   "outputs": [
    {
     "data": {
      "text/html": [
       "<div>\n",
       "<style scoped>\n",
       "    .dataframe tbody tr th:only-of-type {\n",
       "        vertical-align: middle;\n",
       "    }\n",
       "\n",
       "    .dataframe tbody tr th {\n",
       "        vertical-align: top;\n",
       "    }\n",
       "\n",
       "    .dataframe thead th {\n",
       "        text-align: right;\n",
       "    }\n",
       "</style>\n",
       "<table border=\"1\" class=\"dataframe\">\n",
       "  <thead>\n",
       "    <tr style=\"text-align: right;\">\n",
       "      <th></th>\n",
       "      <th>Almond</th>\n",
       "      <th>Peanut</th>\n",
       "      <th>Cashew</th>\n",
       "    </tr>\n",
       "  </thead>\n",
       "  <tbody>\n",
       "    <tr>\n",
       "      <th>Mon</th>\n",
       "      <td>12</td>\n",
       "      <td>15</td>\n",
       "      <td>0</td>\n",
       "    </tr>\n",
       "    <tr>\n",
       "      <th>Tue</th>\n",
       "      <td>3</td>\n",
       "      <td>3</td>\n",
       "      <td>7</td>\n",
       "    </tr>\n",
       "    <tr>\n",
       "      <th>Wed</th>\n",
       "      <td>9</td>\n",
       "      <td>19</td>\n",
       "      <td>18</td>\n",
       "    </tr>\n",
       "    <tr>\n",
       "      <th>Thurs</th>\n",
       "      <td>4</td>\n",
       "      <td>6</td>\n",
       "      <td>12</td>\n",
       "    </tr>\n",
       "    <tr>\n",
       "      <th>Fri</th>\n",
       "      <td>1</td>\n",
       "      <td>6</td>\n",
       "      <td>7</td>\n",
       "    </tr>\n",
       "  </tbody>\n",
       "</table>\n",
       "</div>"
      ],
      "text/plain": [
       "       Almond  Peanut  Cashew\n",
       "Mon        12      15       0\n",
       "Tue         3       3       7\n",
       "Wed         9      19      18\n",
       "Thurs       4       6      12\n",
       "Fri         1       6       7"
      ]
     },
     "execution_count": 48,
     "metadata": {},
     "output_type": "execute_result"
    }
   ],
   "source": [
    "weekly = pd.DataFrame(sales,index=['Mon','Tue','Wed','Thurs','Fri'],\n",
    "                      columns=['Almond','Peanut','Cashew'])\n",
    "weekly"
   ]
  },
  {
   "cell_type": "code",
   "execution_count": 56,
   "id": "9d6b88ec-3d75-4df1-a7fb-d090ed75c427",
   "metadata": {},
   "outputs": [],
   "source": [
    "# Prices\n",
    "prices = np.array([10,8,12])\n",
    "butter_prices = pd.DataFrame(prices.reshape(1,3),index=['Price'],columns=['Almond','Peanut','Cashew'])"
   ]
  },
  {
   "cell_type": "code",
   "execution_count": 57,
   "id": "3e4d9acf-aff8-4de1-a4c7-0ad0d435f6cd",
   "metadata": {},
   "outputs": [
    {
     "data": {
      "text/html": [
       "<div>\n",
       "<style scoped>\n",
       "    .dataframe tbody tr th:only-of-type {\n",
       "        vertical-align: middle;\n",
       "    }\n",
       "\n",
       "    .dataframe tbody tr th {\n",
       "        vertical-align: top;\n",
       "    }\n",
       "\n",
       "    .dataframe thead th {\n",
       "        text-align: right;\n",
       "    }\n",
       "</style>\n",
       "<table border=\"1\" class=\"dataframe\">\n",
       "  <thead>\n",
       "    <tr style=\"text-align: right;\">\n",
       "      <th></th>\n",
       "      <th>Almond</th>\n",
       "      <th>Peanut</th>\n",
       "      <th>Cashew</th>\n",
       "    </tr>\n",
       "  </thead>\n",
       "  <tbody>\n",
       "    <tr>\n",
       "      <th>Price</th>\n",
       "      <td>10</td>\n",
       "      <td>8</td>\n",
       "      <td>12</td>\n",
       "    </tr>\n",
       "  </tbody>\n",
       "</table>\n",
       "</div>"
      ],
      "text/plain": [
       "       Almond  Peanut  Cashew\n",
       "Price      10       8      12"
      ]
     },
     "execution_count": 57,
     "metadata": {},
     "output_type": "execute_result"
    }
   ],
   "source": [
    "butter_prices"
   ]
  },
  {
   "cell_type": "code",
   "execution_count": 58,
   "id": "40348b30-1cdf-46fc-8bdf-b54e8cc3d0c8",
   "metadata": {},
   "outputs": [],
   "source": [
    "total_sales = prices.dot(sales.T)"
   ]
  },
  {
   "cell_type": "code",
   "execution_count": 65,
   "id": "0cbe63f3-2b5d-4574-95ca-35a462d12124",
   "metadata": {},
   "outputs": [
    {
     "data": {
      "text/html": [
       "<div>\n",
       "<style scoped>\n",
       "    .dataframe tbody tr th:only-of-type {\n",
       "        vertical-align: middle;\n",
       "    }\n",
       "\n",
       "    .dataframe tbody tr th {\n",
       "        vertical-align: top;\n",
       "    }\n",
       "\n",
       "    .dataframe thead th {\n",
       "        text-align: right;\n",
       "    }\n",
       "</style>\n",
       "<table border=\"1\" class=\"dataframe\">\n",
       "  <thead>\n",
       "    <tr style=\"text-align: right;\">\n",
       "      <th></th>\n",
       "      <th>Mon</th>\n",
       "      <th>Tue</th>\n",
       "      <th>Wed</th>\n",
       "      <th>Thurs</th>\n",
       "      <th>Fri</th>\n",
       "    </tr>\n",
       "  </thead>\n",
       "  <tbody>\n",
       "    <tr>\n",
       "      <th>Price</th>\n",
       "      <td>240</td>\n",
       "      <td>138</td>\n",
       "      <td>458</td>\n",
       "      <td>232</td>\n",
       "      <td>142</td>\n",
       "    </tr>\n",
       "  </tbody>\n",
       "</table>\n",
       "</div>"
      ],
      "text/plain": [
       "       Mon  Tue  Wed  Thurs  Fri\n",
       "Price  240  138  458    232  142"
      ]
     },
     "execution_count": 65,
     "metadata": {},
     "output_type": "execute_result"
    }
   ],
   "source": [
    "daily_sales=butter_prices.dot(weekly.T)\n",
    "daily_sales"
   ]
  },
  {
   "cell_type": "code",
   "execution_count": 69,
   "id": "37b0042d-6b61-47f3-a76d-6df028087d5d",
   "metadata": {},
   "outputs": [],
   "source": [
    "weekly['Total'] = daily_sales.T"
   ]
  },
  {
   "cell_type": "code",
   "execution_count": 70,
   "id": "6d20dc82-904f-48d0-9962-2dddbb8af288",
   "metadata": {},
   "outputs": [
    {
     "data": {
      "text/html": [
       "<div>\n",
       "<style scoped>\n",
       "    .dataframe tbody tr th:only-of-type {\n",
       "        vertical-align: middle;\n",
       "    }\n",
       "\n",
       "    .dataframe tbody tr th {\n",
       "        vertical-align: top;\n",
       "    }\n",
       "\n",
       "    .dataframe thead th {\n",
       "        text-align: right;\n",
       "    }\n",
       "</style>\n",
       "<table border=\"1\" class=\"dataframe\">\n",
       "  <thead>\n",
       "    <tr style=\"text-align: right;\">\n",
       "      <th></th>\n",
       "      <th>Almond</th>\n",
       "      <th>Peanut</th>\n",
       "      <th>Cashew</th>\n",
       "      <th>Total</th>\n",
       "    </tr>\n",
       "  </thead>\n",
       "  <tbody>\n",
       "    <tr>\n",
       "      <th>Mon</th>\n",
       "      <td>12</td>\n",
       "      <td>15</td>\n",
       "      <td>0</td>\n",
       "      <td>240</td>\n",
       "    </tr>\n",
       "    <tr>\n",
       "      <th>Tue</th>\n",
       "      <td>3</td>\n",
       "      <td>3</td>\n",
       "      <td>7</td>\n",
       "      <td>138</td>\n",
       "    </tr>\n",
       "    <tr>\n",
       "      <th>Wed</th>\n",
       "      <td>9</td>\n",
       "      <td>19</td>\n",
       "      <td>18</td>\n",
       "      <td>458</td>\n",
       "    </tr>\n",
       "    <tr>\n",
       "      <th>Thurs</th>\n",
       "      <td>4</td>\n",
       "      <td>6</td>\n",
       "      <td>12</td>\n",
       "      <td>232</td>\n",
       "    </tr>\n",
       "    <tr>\n",
       "      <th>Fri</th>\n",
       "      <td>1</td>\n",
       "      <td>6</td>\n",
       "      <td>7</td>\n",
       "      <td>142</td>\n",
       "    </tr>\n",
       "  </tbody>\n",
       "</table>\n",
       "</div>"
      ],
      "text/plain": [
       "       Almond  Peanut  Cashew  Total\n",
       "Mon        12      15       0    240\n",
       "Tue         3       3       7    138\n",
       "Wed         9      19      18    458\n",
       "Thurs       4       6      12    232\n",
       "Fri         1       6       7    142"
      ]
     },
     "execution_count": 70,
     "metadata": {},
     "output_type": "execute_result"
    }
   ],
   "source": [
    "weekly"
   ]
  },
  {
   "cell_type": "code",
   "execution_count": 71,
   "id": "53190a13-0710-49ae-a711-0e53a39185b2",
   "metadata": {},
   "outputs": [
    {
     "data": {
      "text/plain": [
       "array([[False, False, False],\n",
       "       [False, False, False]])"
      ]
     },
     "execution_count": 71,
     "metadata": {},
     "output_type": "execute_result"
    }
   ],
   "source": [
    "# Comparison \n",
    "a1 > a2"
   ]
  },
  {
   "cell_type": "code",
   "execution_count": 72,
   "id": "ceae2b28-af72-4551-8f7d-8e2f2197f4df",
   "metadata": {},
   "outputs": [
    {
     "data": {
      "text/plain": [
       "array([[ True,  True,  True],\n",
       "       [False, False, False]])"
      ]
     },
     "execution_count": 72,
     "metadata": {},
     "output_type": "execute_result"
    }
   ],
   "source": [
    "bool = a1 >= a2"
   ]
  },
  {
   "cell_type": "code",
   "execution_count": 73,
   "id": "3b925538-155b-437c-9388-b7e9e61ce831",
   "metadata": {},
   "outputs": [
    {
     "data": {
      "text/plain": [
       "array([False, False, False])"
      ]
     },
     "execution_count": 73,
     "metadata": {},
     "output_type": "execute_result"
    }
   ],
   "source": [
    "a1>5"
   ]
  },
  {
   "cell_type": "code",
   "execution_count": 74,
   "id": "6e8d4352-0b77-45b4-bc8b-c54888789ec5",
   "metadata": {},
   "outputs": [],
   "source": [
    "# Sorting"
   ]
  },
  {
   "cell_type": "code",
   "execution_count": 80,
   "id": "f2126877-02fe-41e9-ba83-7518c3c535b8",
   "metadata": {},
   "outputs": [],
   "source": [
    "r = np.random.randint(10,size=(3,5))"
   ]
  },
  {
   "cell_type": "code",
   "execution_count": 81,
   "id": "a2b3d982-f970-4923-9015-162407f3fbf6",
   "metadata": {},
   "outputs": [
    {
     "data": {
      "text/plain": [
       "array([[1, 3, 3, 3, 8],\n",
       "       [0, 1, 7, 9, 9],\n",
       "       [0, 2, 3, 4, 7]])"
      ]
     },
     "execution_count": 81,
     "metadata": {},
     "output_type": "execute_result"
    }
   ],
   "source": [
    "np.sort(r)"
   ]
  },
  {
   "cell_type": "code",
   "execution_count": 82,
   "id": "97145f5b-b4fe-4458-b028-99539dbaa830",
   "metadata": {},
   "outputs": [
    {
     "data": {
      "text/plain": [
       "array([[1, 2, 3, 4, 0],\n",
       "       [1, 2, 0, 3, 4],\n",
       "       [0, 4, 3, 1, 2]], dtype=int64)"
      ]
     },
     "execution_count": 82,
     "metadata": {},
     "output_type": "execute_result"
    }
   ],
   "source": [
    "np.argsort(r)"
   ]
  },
  {
   "cell_type": "code",
   "execution_count": 83,
   "id": "83d79b70-308e-4116-adda-44a44bce87c6",
   "metadata": {},
   "outputs": [
    {
     "data": {
      "text/plain": [
       "0"
      ]
     },
     "execution_count": 83,
     "metadata": {},
     "output_type": "execute_result"
    }
   ],
   "source": [
    "np.argmin(a1)"
   ]
  },
  {
   "cell_type": "code",
   "execution_count": 85,
   "id": "889dcc4c-0721-4486-8f1e-65fc43cd0d0e",
   "metadata": {},
   "outputs": [
    {
     "data": {
      "text/plain": [
       "array([0, 2, 1, 0, 0], dtype=int64)"
      ]
     },
     "execution_count": 85,
     "metadata": {},
     "output_type": "execute_result"
    }
   ],
   "source": [
    "np.argmax(random,axis=0)"
   ]
  },
  {
   "cell_type": "code",
   "execution_count": 86,
   "id": "b802f09b-be73-4498-bbec-d8da2d5769f4",
   "metadata": {},
   "outputs": [],
   "source": [
    "# IMAGES "
   ]
  },
  {
   "cell_type": "markdown",
   "id": "17a88549-f0c4-46e7-9fc8-5190d4a0fc80",
   "metadata": {},
   "source": [
    "<img src=\"panda.png\"/>"
   ]
  },
  {
   "cell_type": "code",
   "execution_count": 91,
   "id": "f14f3ce9-0247-4aa1-a961-45e7c0e856ec",
   "metadata": {},
   "outputs": [],
   "source": [
    "from matplotlib.image import imread\n",
    "\n",
    "panda = imread('panda.png')\n"
   ]
  },
  {
   "cell_type": "code",
   "execution_count": 92,
   "id": "de2ebaaf-d26c-42f0-af81-50a28e861168",
   "metadata": {},
   "outputs": [
    {
     "data": {
      "text/plain": [
       "array([[[0.05490196, 0.10588235, 0.06666667],\n",
       "        [0.05490196, 0.10588235, 0.06666667],\n",
       "        [0.05490196, 0.10588235, 0.06666667],\n",
       "        ...,\n",
       "        [0.16470589, 0.12941177, 0.09411765],\n",
       "        [0.16470589, 0.12941177, 0.09411765],\n",
       "        [0.16470589, 0.12941177, 0.09411765]],\n",
       "\n",
       "       [[0.05490196, 0.10588235, 0.06666667],\n",
       "        [0.05490196, 0.10588235, 0.06666667],\n",
       "        [0.05490196, 0.10588235, 0.06666667],\n",
       "        ...,\n",
       "        [0.16470589, 0.12941177, 0.09411765],\n",
       "        [0.16470589, 0.12941177, 0.09411765],\n",
       "        [0.16470589, 0.12941177, 0.09411765]],\n",
       "\n",
       "       [[0.05490196, 0.10588235, 0.06666667],\n",
       "        [0.05490196, 0.10588235, 0.06666667],\n",
       "        [0.05490196, 0.10588235, 0.06666667],\n",
       "        ...,\n",
       "        [0.16470589, 0.12941177, 0.09411765],\n",
       "        [0.16470589, 0.12941177, 0.09411765],\n",
       "        [0.16470589, 0.12941177, 0.09411765]],\n",
       "\n",
       "       ...,\n",
       "\n",
       "       [[0.13333334, 0.07450981, 0.05490196],\n",
       "        [0.12156863, 0.0627451 , 0.04313726],\n",
       "        [0.10980392, 0.05098039, 0.03137255],\n",
       "        ...,\n",
       "        [0.02745098, 0.02745098, 0.03529412],\n",
       "        [0.02745098, 0.02745098, 0.03529412],\n",
       "        [0.02745098, 0.02745098, 0.03529412]],\n",
       "\n",
       "       [[0.13333334, 0.07450981, 0.05490196],\n",
       "        [0.12156863, 0.0627451 , 0.04313726],\n",
       "        [0.12156863, 0.0627451 , 0.04313726],\n",
       "        ...,\n",
       "        [0.02352941, 0.02352941, 0.03137255],\n",
       "        [0.02352941, 0.02352941, 0.03137255],\n",
       "        [0.02352941, 0.02352941, 0.03137255]],\n",
       "\n",
       "       [[0.13333334, 0.07450981, 0.05490196],\n",
       "        [0.12156863, 0.0627451 , 0.04313726],\n",
       "        [0.12156863, 0.0627451 , 0.04313726],\n",
       "        ...,\n",
       "        [0.02352941, 0.02352941, 0.03137255],\n",
       "        [0.02352941, 0.02352941, 0.03137255],\n",
       "        [0.02352941, 0.02352941, 0.03137255]]], dtype=float32)"
      ]
     },
     "execution_count": 92,
     "metadata": {},
     "output_type": "execute_result"
    }
   ],
   "source": [
    "panda\n"
   ]
  },
  {
   "cell_type": "code",
   "execution_count": 93,
   "id": "a6bd557c-f796-4a0e-bb20-bff515e4c41c",
   "metadata": {},
   "outputs": [
    {
     "data": {
      "text/plain": [
       "(24465000, (2330, 3500, 3), 3)"
      ]
     },
     "execution_count": 93,
     "metadata": {},
     "output_type": "execute_result"
    }
   ],
   "source": [
    "panda.size, panda.shape,panda.ndim"
   ]
  },
  {
   "cell_type": "code",
   "execution_count": null,
   "id": "a70474cf-ab95-4220-824e-df68546296cc",
   "metadata": {},
   "outputs": [],
   "source": []
  }
 ],
 "metadata": {
  "kernelspec": {
   "display_name": "Python 3 (ipykernel)",
   "language": "python",
   "name": "python3"
  },
  "language_info": {
   "codemirror_mode": {
    "name": "ipython",
    "version": 3
   },
   "file_extension": ".py",
   "mimetype": "text/x-python",
   "name": "python",
   "nbconvert_exporter": "python",
   "pygments_lexer": "ipython3",
   "version": "3.12.2"
  }
 },
 "nbformat": 4,
 "nbformat_minor": 5
}
